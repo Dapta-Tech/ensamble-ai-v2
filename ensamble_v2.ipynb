{
  "cells": [
    {
      "cell_type": "markdown",
      "metadata": {
        "id": "5krbG-OyTNXS"
      },
      "source": [
        "# 1.Vectorize"
      ]
    },
    {
      "cell_type": "code",
      "execution_count": 1,
      "metadata": {
        "id": "wPOQ5pYnnyE5"
      },
      "outputs": [],
      "source": [
        "import os\n",
        "os.environ['OPENAI_API_KEY'] =  \"\""
      ]
    },
    {
      "cell_type": "code",
      "execution_count": 2,
      "metadata": {
        "colab": {
          "base_uri": "https://localhost:8080/"
        },
        "id": "k5Z2IADWn4QY",
        "outputId": "c100dafd-fafe-4986-95ed-14183f4c94af"
      },
      "outputs": [
        {
          "name": "stdout",
          "output_type": "stream",
          "text": [
            "\u001b[2K     \u001b[90m━━━━━━━━━━━━━━━━━━━━━━━━━━━━━━━━━━━━━━━━\u001b[0m \u001b[32m812.8/812.8 kB\u001b[0m \u001b[31m8.8 MB/s\u001b[0m eta \u001b[36m0:00:00\u001b[0m\n",
            "\u001b[2K     \u001b[90m━━━━━━━━━━━━━━━━━━━━━━━━━━━━━━━━━━━━━━━━\u001b[0m \u001b[32m1.9/1.9 MB\u001b[0m \u001b[31m14.6 MB/s\u001b[0m eta \u001b[36m0:00:00\u001b[0m\n",
            "\u001b[2K     \u001b[90m━━━━━━━━━━━━━━━━━━━━━━━━━━━━━━━━━━━━━━━━\u001b[0m \u001b[32m525.5/525.5 kB\u001b[0m \u001b[31m14.2 MB/s\u001b[0m eta \u001b[36m0:00:00\u001b[0m\n",
            "\u001b[2K     \u001b[90m━━━━━━━━━━━━━━━━━━━━━━━━━━━━━━━━━━━━━━━━\u001b[0m \u001b[32m286.1/286.1 kB\u001b[0m \u001b[31m20.2 MB/s\u001b[0m eta \u001b[36m0:00:00\u001b[0m\n",
            "\u001b[2K     \u001b[90m━━━━━━━━━━━━━━━━━━━━━━━━━━━━━━━━━━━━━━━━\u001b[0m \u001b[32m276.6/276.6 kB\u001b[0m \u001b[31m15.5 MB/s\u001b[0m eta \u001b[36m0:00:00\u001b[0m\n",
            "\u001b[2K     \u001b[90m━━━━━━━━━━━━━━━━━━━━━━━━━━━━━━━━━━━━━━━━\u001b[0m \u001b[32m86.9/86.9 kB\u001b[0m \u001b[31m8.7 MB/s\u001b[0m eta \u001b[36m0:00:00\u001b[0m\n",
            "\u001b[2K     \u001b[90m━━━━━━━━━━━━━━━━━━━━━━━━━━━━━━━━━━━━━━━━\u001b[0m \u001b[32m266.9/266.9 kB\u001b[0m \u001b[31m20.4 MB/s\u001b[0m eta \u001b[36m0:00:00\u001b[0m\n",
            "\u001b[2K     \u001b[90m━━━━━━━━━━━━━━━━━━━━━━━━━━━━━━━━━━━━━━━━\u001b[0m \u001b[32m1.8/1.8 MB\u001b[0m \u001b[31m20.7 MB/s\u001b[0m eta \u001b[36m0:00:00\u001b[0m\n",
            "\u001b[2K     \u001b[90m━━━━━━━━━━━━━━━━━━━━━━━━━━━━━━━━━━━━━━━━\u001b[0m \u001b[32m2.4/2.4 MB\u001b[0m \u001b[31m26.6 MB/s\u001b[0m eta \u001b[36m0:00:00\u001b[0m\n",
            "\u001b[2K     \u001b[90m━━━━━━━━━━━━━━━━━━━━━━━━━━━━━━━━━━━━━━━━\u001b[0m \u001b[32m91.9/91.9 kB\u001b[0m \u001b[31m9.7 MB/s\u001b[0m eta \u001b[36m0:00:00\u001b[0m\n",
            "\u001b[2K     \u001b[90m━━━━━━━━━━━━━━━━━━━━━━━━━━━━━━━━━━━━━━━━\u001b[0m \u001b[32m60.8/60.8 kB\u001b[0m \u001b[31m6.3 MB/s\u001b[0m eta \u001b[36m0:00:00\u001b[0m\n",
            "\u001b[2K     \u001b[90m━━━━━━━━━━━━━━━━━━━━━━━━━━━━━━━━━━━━━━━━\u001b[0m \u001b[32m41.3/41.3 kB\u001b[0m \u001b[31m4.3 MB/s\u001b[0m eta \u001b[36m0:00:00\u001b[0m\n",
            "\u001b[2K     \u001b[90m━━━━━━━━━━━━━━━━━━━━━━━━━━━━━━━━━━━━━━━━\u001b[0m \u001b[32m5.4/5.4 MB\u001b[0m \u001b[31m38.8 MB/s\u001b[0m eta \u001b[36m0:00:00\u001b[0m\n",
            "\u001b[2K     \u001b[90m━━━━━━━━━━━━━━━━━━━━━━━━━━━━━━━━━━━━━━━━\u001b[0m \u001b[32m6.8/6.8 MB\u001b[0m \u001b[31m53.8 MB/s\u001b[0m eta \u001b[36m0:00:00\u001b[0m\n",
            "\u001b[2K     \u001b[90m━━━━━━━━━━━━━━━━━━━━━━━━━━━━━━━━━━━━━━━━\u001b[0m \u001b[32m60.1/60.1 kB\u001b[0m \u001b[31m6.1 MB/s\u001b[0m eta \u001b[36m0:00:00\u001b[0m\n",
            "\u001b[2K     \u001b[90m━━━━━━━━━━━━━━━━━━━━━━━━━━━━━━━━━━━━━━━━\u001b[0m \u001b[32m106.1/106.1 kB\u001b[0m \u001b[31m6.7 MB/s\u001b[0m eta \u001b[36m0:00:00\u001b[0m\n",
            "\u001b[2K     \u001b[90m━━━━━━━━━━━━━━━━━━━━━━━━━━━━━━━━━━━━━━━━\u001b[0m \u001b[32m67.3/67.3 kB\u001b[0m \u001b[31m7.4 MB/s\u001b[0m eta \u001b[36m0:00:00\u001b[0m\n",
            "\u001b[?25h  Installing build dependencies ... \u001b[?25l\u001b[?25hdone\n",
            "  Getting requirements to build wheel ... \u001b[?25l\u001b[?25hdone\n",
            "  Preparing metadata (pyproject.toml) ... \u001b[?25l\u001b[?25hdone\n",
            "\u001b[2K     \u001b[90m━━━━━━━━━━━━━━━━━━━━━━━━━━━━━━━━━━━━━━━━\u001b[0m \u001b[32m698.9/698.9 kB\u001b[0m \u001b[31m48.0 MB/s\u001b[0m eta \u001b[36m0:00:00\u001b[0m\n",
            "\u001b[2K     \u001b[90m━━━━━━━━━━━━━━━━━━━━━━━━━━━━━━━━━━━━━━━━\u001b[0m \u001b[32m1.6/1.6 MB\u001b[0m \u001b[31m51.0 MB/s\u001b[0m eta \u001b[36m0:00:00\u001b[0m\n",
            "\u001b[2K     \u001b[90m━━━━━━━━━━━━━━━━━━━━━━━━━━━━━━━━━━━━━━━━\u001b[0m \u001b[32m67.6/67.6 kB\u001b[0m \u001b[31m7.8 MB/s\u001b[0m eta \u001b[36m0:00:00\u001b[0m\n",
            "\u001b[2K     \u001b[90m━━━━━━━━━━━━━━━━━━━━━━━━━━━━━━━━━━━━━━━━\u001b[0m \u001b[32m144.8/144.8 kB\u001b[0m \u001b[31m9.9 MB/s\u001b[0m eta \u001b[36m0:00:00\u001b[0m\n",
            "\u001b[2K     \u001b[90m━━━━━━━━━━━━━━━━━━━━━━━━━━━━━━━━━━━━━━━━\u001b[0m \u001b[32m49.4/49.4 kB\u001b[0m \u001b[31m3.2 MB/s\u001b[0m eta \u001b[36m0:00:00\u001b[0m\n",
            "\u001b[2K     \u001b[90m━━━━━━━━━━━━━━━━━━━━━━━━━━━━━━━━━━━━━━━━\u001b[0m \u001b[32m71.9/71.9 kB\u001b[0m \u001b[31m6.3 MB/s\u001b[0m eta \u001b[36m0:00:00\u001b[0m\n",
            "\u001b[2K     \u001b[90m━━━━━━━━━━━━━━━━━━━━━━━━━━━━━━━━━━━━━━━━\u001b[0m \u001b[32m53.0/53.0 kB\u001b[0m \u001b[31m4.7 MB/s\u001b[0m eta \u001b[36m0:00:00\u001b[0m\n",
            "\u001b[2K     \u001b[90m━━━━━━━━━━━━━━━━━━━━━━━━━━━━━━━━━━━━━━━━\u001b[0m \u001b[32m46.0/46.0 kB\u001b[0m \u001b[31m3.3 MB/s\u001b[0m eta \u001b[36m0:00:00\u001b[0m\n",
            "\u001b[2K     \u001b[90m━━━━━━━━━━━━━━━━━━━━━━━━━━━━━━━━━━━━━━━━\u001b[0m \u001b[32m75.6/75.6 kB\u001b[0m \u001b[31m7.4 MB/s\u001b[0m eta \u001b[36m0:00:00\u001b[0m\n",
            "\u001b[2K     \u001b[90m━━━━━━━━━━━━━━━━━━━━━━━━━━━━━━━━━━━━━━━━\u001b[0m \u001b[32m50.8/50.8 kB\u001b[0m \u001b[31m4.9 MB/s\u001b[0m eta \u001b[36m0:00:00\u001b[0m\n",
            "\u001b[2K     \u001b[90m━━━━━━━━━━━━━━━━━━━━━━━━━━━━━━━━━━━━━━━━\u001b[0m \u001b[32m58.3/58.3 kB\u001b[0m \u001b[31m6.1 MB/s\u001b[0m eta \u001b[36m0:00:00\u001b[0m\n",
            "\u001b[2K     \u001b[90m━━━━━━━━━━━━━━━━━━━━━━━━━━━━━━━━━━━━━━━━\u001b[0m \u001b[32m341.4/341.4 kB\u001b[0m \u001b[31m31.2 MB/s\u001b[0m eta \u001b[36m0:00:00\u001b[0m\n",
            "\u001b[2K     \u001b[90m━━━━━━━━━━━━━━━━━━━━━━━━━━━━━━━━━━━━━━━━\u001b[0m \u001b[32m3.4/3.4 MB\u001b[0m \u001b[31m62.5 MB/s\u001b[0m eta \u001b[36m0:00:00\u001b[0m\n",
            "\u001b[2K     \u001b[90m━━━━━━━━━━━━━━━━━━━━━━━━━━━━━━━━━━━━━━━━\u001b[0m \u001b[32m1.3/1.3 MB\u001b[0m \u001b[31m58.5 MB/s\u001b[0m eta \u001b[36m0:00:00\u001b[0m\n",
            "\u001b[2K     \u001b[90m━━━━━━━━━━━━━━━━━━━━━━━━━━━━━━━━━━━━━━━━\u001b[0m \u001b[32m130.2/130.2 kB\u001b[0m \u001b[31m13.5 MB/s\u001b[0m eta \u001b[36m0:00:00\u001b[0m\n",
            "\u001b[2K     \u001b[90m━━━━━━━━━━━━━━━━━━━━━━━━━━━━━━━━━━━━━━━━\u001b[0m \u001b[32m77.9/77.9 kB\u001b[0m \u001b[31m9.0 MB/s\u001b[0m eta \u001b[36m0:00:00\u001b[0m\n",
            "\u001b[2K     \u001b[90m━━━━━━━━━━━━━━━━━━━━━━━━━━━━━━━━━━━━━━━━\u001b[0m \u001b[32m86.8/86.8 kB\u001b[0m \u001b[31m9.6 MB/s\u001b[0m eta \u001b[36m0:00:00\u001b[0m\n",
            "\u001b[?25h  Building wheel for pypika (pyproject.toml) ... \u001b[?25l\u001b[?25hdone\n"
          ]
        }
      ],
      "source": [
        "%pip install --upgrade --quiet  langchain langchain-community langchainhub langchain-openai chromadb pypdf"
      ]
    },
    {
      "cell_type": "code",
      "execution_count": 5,
      "metadata": {
        "id": "KVPfdhP_pJR0"
      },
      "outputs": [],
      "source": [
        "from langchain_community.document_loaders import PyPDFLoader\n",
        "loader = PyPDFLoader('/content/DNP - Guía PISCC 2024.pdf')\n",
        "pages = loader.load_and_split()"
      ]
    },
    {
      "cell_type": "code",
      "execution_count": 4,
      "metadata": {
        "colab": {
          "base_uri": "https://localhost:8080/"
        },
        "id": "bnkGZbd7r0-o",
        "outputId": "8388e30b-accf-4973-de33-d574a32c32f2"
      },
      "outputs": [
        {
          "name": "stdout",
          "output_type": "stream",
          "text": [
            "\u001b[2K     \u001b[90m━━━━━━━━━━━━━━━━━━━━━━━━━━━━━━━━━━━━━━━━\u001b[0m \u001b[32m215.9/215.9 kB\u001b[0m \u001b[31m4.4 MB/s\u001b[0m eta \u001b[36m0:00:00\u001b[0m\n",
            "\u001b[2K     \u001b[90m━━━━━━━━━━━━━━━━━━━━━━━━━━━━━━━━━━━━━━━━\u001b[0m \u001b[32m163.3/163.3 kB\u001b[0m \u001b[31m14.3 MB/s\u001b[0m eta \u001b[36m0:00:00\u001b[0m\n",
            "\u001b[2K     \u001b[90m━━━━━━━━━━━━━━━━━━━━━━━━━━━━━━━━━━━━━━━━\u001b[0m \u001b[32m23.7/23.7 MB\u001b[0m \u001b[31m31.0 MB/s\u001b[0m eta \u001b[36m0:00:00\u001b[0m\n",
            "\u001b[2K     \u001b[90m━━━━━━━━━━━━━━━━━━━━━━━━━━━━━━━━━━━━━━━━\u001b[0m \u001b[32m823.6/823.6 kB\u001b[0m \u001b[31m48.9 MB/s\u001b[0m eta \u001b[36m0:00:00\u001b[0m\n",
            "\u001b[2K     \u001b[90m━━━━━━━━━━━━━━━━━━━━━━━━━━━━━━━━━━━━━━━━\u001b[0m \u001b[32m14.1/14.1 MB\u001b[0m \u001b[31m54.0 MB/s\u001b[0m eta \u001b[36m0:00:00\u001b[0m\n",
            "\u001b[2K     \u001b[90m━━━━━━━━━━━━━━━━━━━━━━━━━━━━━━━━━━━━━━━━\u001b[0m \u001b[32m731.7/731.7 MB\u001b[0m \u001b[31m1.1 MB/s\u001b[0m eta \u001b[36m0:00:00\u001b[0m\n",
            "\u001b[2K     \u001b[90m━━━━━━━━━━━━━━━━━━━━━━━━━━━━━━━━━━━━━━━━\u001b[0m \u001b[32m410.6/410.6 MB\u001b[0m \u001b[31m3.0 MB/s\u001b[0m eta \u001b[36m0:00:00\u001b[0m\n",
            "\u001b[2K     \u001b[90m━━━━━━━━━━━━━━━━━━━━━━━━━━━━━━━━━━━━━━━━\u001b[0m \u001b[32m121.6/121.6 MB\u001b[0m \u001b[31m8.6 MB/s\u001b[0m eta \u001b[36m0:00:00\u001b[0m\n",
            "\u001b[2K     \u001b[90m━━━━━━━━━━━━━━━━━━━━━━━━━━━━━━━━━━━━━━━━\u001b[0m \u001b[32m56.5/56.5 MB\u001b[0m \u001b[31m12.5 MB/s\u001b[0m eta \u001b[36m0:00:00\u001b[0m\n",
            "\u001b[2K     \u001b[90m━━━━━━━━━━━━━━━━━━━━━━━━━━━━━━━━━━━━━━━━\u001b[0m \u001b[32m124.2/124.2 MB\u001b[0m \u001b[31m7.9 MB/s\u001b[0m eta \u001b[36m0:00:00\u001b[0m\n",
            "\u001b[2K     \u001b[90m━━━━━━━━━━━━━━━━━━━━━━━━━━━━━━━━━━━━━━━━\u001b[0m \u001b[32m196.0/196.0 MB\u001b[0m \u001b[31m5.2 MB/s\u001b[0m eta \u001b[36m0:00:00\u001b[0m\n",
            "\u001b[2K     \u001b[90m━━━━━━━━━━━━━━━━━━━━━━━━━━━━━━━━━━━━━━━━\u001b[0m \u001b[32m166.0/166.0 MB\u001b[0m \u001b[31m6.6 MB/s\u001b[0m eta \u001b[36m0:00:00\u001b[0m\n",
            "\u001b[2K     \u001b[90m━━━━━━━━━━━━━━━━━━━━━━━━━━━━━━━━━━━━━━━━\u001b[0m \u001b[32m99.1/99.1 kB\u001b[0m \u001b[31m10.3 MB/s\u001b[0m eta \u001b[36m0:00:00\u001b[0m\n",
            "\u001b[2K     \u001b[90m━━━━━━━━━━━━━━━━━━━━━━━━━━━━━━━━━━━━━━━━\u001b[0m \u001b[32m21.1/21.1 MB\u001b[0m \u001b[31m53.3 MB/s\u001b[0m eta \u001b[36m0:00:00\u001b[0m\n",
            "\u001b[?25h"
          ]
        }
      ],
      "source": [
        "%pip install --upgrade --quiet  langchain-pinecone pinecone-client sentence-transformers"
      ]
    },
    {
      "cell_type": "code",
      "execution_count": 6,
      "metadata": {
        "id": "UDu5SYKatP0s"
      },
      "outputs": [],
      "source": [
        "from langchain_openai import OpenAIEmbeddings\n",
        "embeddings = OpenAIEmbeddings(model=\"text-embedding-3-large\")#3072"
      ]
    },
    {
      "cell_type": "code",
      "execution_count": 7,
      "metadata": {
        "id": "1UBZTLElxf0Z"
      },
      "outputs": [],
      "source": [
        "import os\n",
        "os.environ['PINECONE_API_KEY'] =''"
      ]
    },
    {
      "cell_type": "code",
      "execution_count": 9,
      "metadata": {
        "id": "DK7DOEtAzpZq"
      },
      "outputs": [],
      "source": [
        "from langchain_pinecone import PineconeVectorStore\n",
        "\n",
        "docsearch = PineconeVectorStore.from_documents(pages, embeddings, index_name=\"ensamble-v2\")"
      ]
    },
    {
      "cell_type": "markdown",
      "metadata": {
        "id": "JH7dIOm-yvZn"
      },
      "source": [
        "# Query"
      ]
    },
    {
      "cell_type": "code",
      "execution_count": 10,
      "metadata": {
        "id": "G6uRrNFIy0hA"
      },
      "outputs": [],
      "source": [
        "%pip install --upgrade --quiet  langchain-pinecone langchain-openai langchain langchain-openai sentence-transformers"
      ]
    },
    {
      "cell_type": "code",
      "execution_count": 11,
      "metadata": {
        "id": "CYNlgjS2y8QY"
      },
      "outputs": [],
      "source": [
        "from pinecone import Pinecone\n",
        "index_name = \"ensamble-v2\"\n",
        "pc = Pinecone(api_key=\"\")\n",
        "index = pc.Index(index_name)"
      ]
    },
    {
      "cell_type": "code",
      "execution_count": 12,
      "metadata": {
        "colab": {
          "base_uri": "https://localhost:8080/"
        },
        "id": "zgz_Mf603GD7",
        "outputId": "4eeea48a-2c91-4c20-a321-8910ef861c33"
      },
      "outputs": [
        {
          "data": {
            "text/plain": [
              "{'dimension': 3072,\n",
              " 'index_fullness': 0.0,\n",
              " 'namespaces': {'': {'vector_count': 122}},\n",
              " 'total_vector_count': 122}"
            ]
          },
          "execution_count": 12,
          "metadata": {},
          "output_type": "execute_result"
        }
      ],
      "source": [
        "index.describe_index_stats()"
      ]
    },
    {
      "cell_type": "code",
      "execution_count": 13,
      "metadata": {
        "id": "3bfYYgdY3RL5"
      },
      "outputs": [],
      "source": [
        "from langchain_openai import OpenAIEmbeddings\n",
        "embeddings = OpenAIEmbeddings(model=\"text-embedding-3-large\")#3072"
      ]
    },
    {
      "cell_type": "code",
      "execution_count": 14,
      "metadata": {
        "id": "sBzY0fOK4Ppb"
      },
      "outputs": [],
      "source": [
        "from langchain_openai import ChatOpenAI\n",
        "from langchain.chains import RetrievalQA\n",
        "\n",
        "llm = ChatOpenAI(\n",
        "    model_name='gpt-3.5-turbo',\n",
        "    temperature=0.5)\n",
        "\n",
        "qa = RetrievalQA.from_chain_type(\n",
        "    llm=llm,\n",
        "    chain_type=\"stuff\",\n",
        "    retriever=docsearch.as_retriever())"
      ]
    },
    {
      "cell_type": "code",
      "execution_count": 33,
      "metadata": {
        "colab": {
          "base_uri": "https://localhost:8080/"
        },
        "id": "VqOjSMTc3isA",
        "outputId": "8dcd5e77-33b7-467f-f929-873464aae060"
      },
      "outputs": [
        {
          "name": "stdout",
          "output_type": "stream",
          "text": [
            "A nivel territorial, los comités municipales, distritales, y departamentales de convivencia escolar son de carácter permanente y están conformados por los siguientes representantes:\n",
            "\n",
            "1. El secretario de Gobierno departamental, distrital o municipal, según corresponda.\n",
            "2. El secretario de Educación departamental, distrital o municipal, según corresponda.\n",
            "3. El secretario de Salud departamental, distrital o municipal, según corresponda.\n",
            "4. El secretario de Cultura o quien haga sus veces, en el nivel departamental, distrital o municipal.\n",
            "5. El director regional del Instituto Colombiano de Bienestar Familiar en los departamentos o el coordinador del Centro Zonal del ICBF en los municipios.\n",
            "6. El comisario de familia.\n",
            "7. El Personero distrital, municipal o Procurador regional.\n",
            "8. El Defensor del Pueblo regional según corresponda.\n"
          ]
        }
      ],
      "source": [
        "query = 'por qué representantes están conformados A nivel territorial los comités municipales, distritales y departamentales de convivencia escolar, que son de carácter permanente?'\n",
        "print(qa.run(query))"
      ]
    },
    {
      "cell_type": "markdown",
      "metadata": {
        "id": "jsiltZFTTGw8"
      },
      "source": [
        "# Consultar la fuente de información"
      ]
    },
    {
      "cell_type": "code",
      "execution_count": 19,
      "metadata": {
        "id": "PyQw0yze6bX1"
      },
      "outputs": [],
      "source": [
        "%pip install --upgrade --quiet  langchain langchain-community langchainhub langchain-openai chromadb bs4"
      ]
    },
    {
      "cell_type": "code",
      "execution_count": 20,
      "metadata": {
        "id": "IqvbnAbAOe5A"
      },
      "outputs": [],
      "source": [
        "%pip install --upgrade --quiet  langchain-pinecone pinecone-client sentence-transformers"
      ]
    },
    {
      "cell_type": "code",
      "execution_count": 21,
      "metadata": {
        "id": "C1iwPZyp66Ss"
      },
      "outputs": [],
      "source": [
        "from langchain import hub\n",
        "from langchain_community.document_loaders import WebBaseLoader\n",
        "from langchain_community.vectorstores import Chroma\n",
        "from langchain_core.output_parsers import StrOutputParser\n",
        "from langchain_core.runnables import RunnablePassthrough\n",
        "from langchain_openai import ChatOpenAI, OpenAIEmbeddings\n",
        "from langchain_text_splitters import RecursiveCharacterTextSplitter"
      ]
    },
    {
      "cell_type": "code",
      "execution_count": 22,
      "metadata": {
        "id": "xzpUSgTwOzd1"
      },
      "outputs": [],
      "source": [
        "from langchain_openai import OpenAIEmbeddings\n",
        "embeddings = OpenAIEmbeddings(model=\"text-embedding-3-large\")#3072"
      ]
    },
    {
      "cell_type": "code",
      "execution_count": 23,
      "metadata": {
        "id": "B1_0ofvWR-ys"
      },
      "outputs": [],
      "source": [
        "from pinecone import Pinecone\n",
        "index_name = \"ensamble-v2\"\n",
        "pc = Pinecone(api_key=\"\")\n",
        "index = pc.Index(index_name)"
      ]
    },
    {
      "cell_type": "code",
      "execution_count": 24,
      "metadata": {
        "id": "DpWJ-CY5SsWU"
      },
      "outputs": [],
      "source": [
        "from langchain_pinecone import PineconeVectorStore\n",
        "\n",
        "text_field = \"text\"\n",
        "\n",
        "docsearch = PineconeVectorStore(index, embeddings, text_field)"
      ]
    },
    {
      "cell_type": "code",
      "execution_count": 25,
      "metadata": {
        "id": "4VESZ4u4RIM0"
      },
      "outputs": [],
      "source": [
        "prompt = hub.pull(\"rlm/rag-prompt\")\n",
        "llm = ChatOpenAI(model_name=\"gpt-3.5-turbo\", temperature=0)"
      ]
    },
    {
      "cell_type": "code",
      "execution_count": 26,
      "metadata": {
        "id": "4t-lD9k6RoD6"
      },
      "outputs": [],
      "source": [
        "def format_docs(docs):\n",
        "    return \"\\n\\n\".join(doc.page_content for doc in docs)"
      ]
    },
    {
      "cell_type": "code",
      "execution_count": 27,
      "metadata": {
        "id": "vQXEWdHNS_LE"
      },
      "outputs": [],
      "source": [
        "retriever = docsearch.as_retriever()"
      ]
    },
    {
      "cell_type": "code",
      "execution_count": 28,
      "metadata": {
        "id": "uTvzdfpJ6eDR"
      },
      "outputs": [],
      "source": [
        "from langchain_core.runnables import RunnableParallel\n",
        "\n",
        "rag_chain_from_docs = (\n",
        "    RunnablePassthrough.assign(context=(lambda x: format_docs(x[\"context\"])))\n",
        "    | prompt\n",
        "    | llm\n",
        "    | StrOutputParser()\n",
        ")\n",
        "\n",
        "rag_chain_with_source = RunnableParallel(\n",
        "    {\"context\": retriever, \"question\": RunnablePassthrough()}\n",
        ").assign(answer=rag_chain_from_docs)\n",
        "\n",
        "query = '¿Cómo pueden los responsables político-administrativos garantizar la alineación y coordinación de esfuerzos para la formulación del Plan Integral de Seguridad y Convivencia Ciudadana (PISCC), considerando los referentes de política del sector defensa, interior y justicia, con el fin de mantener la coherencia y la capacidad de acción integral en el manejo de la seguridad y la convivencia ciudadana en cada territorio?'\n",
        "data = rag_chain_with_source.invoke(query)"
      ]
    },
    {
      "cell_type": "code",
      "execution_count": 32,
      "metadata": {
        "colab": {
          "base_uri": "https://localhost:8080/",
          "height": 108
        },
        "id": "GwY647PJR3X2",
        "outputId": "50f1c120-47c8-48ad-c0ac-0bb9f5dc507a"
      },
      "outputs": [
        {
          "data": {
            "application/vnd.google.colaboratory.intrinsic+json": {
              "type": "string"
            },
            "text/plain": [
              "'Los responsables político-administrativos pueden garantizar la alineación y coordinación de esfuerzos para la formulación del PISCC mediante la articulación con instrumentos de planeación a nivel nacional y territorial, asociando cada programa con líneas estratégicas de la Política Nacional de Seguridad y Convivencia, y contemplando los principios de subsidiariedad y complementariedad. La formulación del PISCC implica considerar a actores como Comisarías de Familia, fuerzas militares, Defensoría del Pueblo, entre otros, para lograr una gestión integral en seguridad y convivencia en cada territorio. Es fundamental procurar la articulación entre los PISCC de los municipios y el PISCC departamental, acompañando técnicamente a los municipios en el proceso de formulación, implementación y seguimiento del plan.'"
            ]
          },
          "execution_count": 32,
          "metadata": {},
          "output_type": "execute_result"
        }
      ],
      "source": [
        "data['answer']"
      ]
    },
    {
      "cell_type": "code",
      "execution_count": 30,
      "metadata": {
        "colab": {
          "base_uri": "https://localhost:8080/"
        },
        "id": "ziYIRjm57PQn",
        "outputId": "e85401c6-5e5b-4c39-c4d1-66906d110200"
      },
      "outputs": [
        {
          "data": {
            "text/plain": [
              "[Document(page_content='56\\nTenga en cuenta los siguientes aspectos a la hora de formular sus planes, programas y proyectos:\\n• Es necesario propender por la articulación de las estrategias con instrumentos de planeación y de \\npolítica a nivel nacional y territorial. Esto permitirá identificar oportunidades de trabajo conjunto, \\narticulación para la optimización de recursos y un alcance mayor de las estrategias. \\n• Procure asociar cada programa formulado con alguna línea estratégica de la Política Nacional de \\nSeguridad y Convivencia vigente, esto le permitirá identificar oportunidades de articulación y apoyo \\npor parte del Gobierno nacional.\\n• La formulación del PISCC debe contemplar los principios de subsidiariedad y complementariedad, \\npara articularse con los PISCC departamentales y generar las mejores sinergias para la gestión \\nterritorial de la convivencia y la seguridad ciudadana. \\nLa formulación del PISCC es un trabajo integral de las autoridades estatales. La naturaleza \\nmultisectorial implica considerar a actores tales como: Comisarías de Familia, Unidad \\nNacional de Protección, Instituto Nacional de Medicina Legal, fuerzas militares (Ejército, \\nArmada, Fuerza Aérea), Defensoría del Pueblo, Instituto Colombiano de Bienestar Familiar, \\nRama judicial, Unidad para la Atención y Reparación Integral a las Víctimas, Agencia de \\nRenovación del Territorio. Así como de las diferentes secretarías del ente territorial que en \\ncorresponsabilidad lleguen a desarrollar acciones en seguridad y convivencia.\\nInstrumentos de planeación para tener presente:\\nPara más información de los instrumentos de planeación a considerar, a la hora de formular los programas y \\nproyectos del PISCC retome los contenidos de la sección 3 de la Guía.\\nRecuerde: si usted hace parte de una gobernación debe procurar que exista una \\narticulación entre los PISCC de los municipios de su departamento y el PISCC \\ndepartamental. Acompañe y asista técnicamente a los municipios que integran su \\ndepartamento en el proceso de formulación, implementación y seguimiento de los PISCC.Plan de \\nOrdenamiento \\nTerritorial\\nPlan de \\nTransformación \\nRegional (Municipios \\nPDET)Plan de Acción \\nTerritorial (población \\nvíctima del conflicto \\narmado)Plan de Acción \\nTerritorial (población \\nvíctima del conflicto \\narmado)Plan Nacional de \\nDesarrollo 2022-2026\\nPlan Territorial de \\nSalud Pública', metadata={'page': 55.0, 'source': '/content/DNP - Guía PISCC 2024.pdf'}),\n",
              " Document(page_content='10\\nEs un instrumento clave para rendir cuentas a diferentes grupos de interés al interior de la \\nadministración pública pero también a las personas beneficiadas.\\nEs un documento articulador entre las iniciativas departamentales y municipales en materia \\nde seguridad y convivencia ciudadana con las directrices, prioridades y propósitos nacionales \\nen este tema. \\n \\nformular el PISCC facilita el trabajo de las autoridades pues se convierte en la hoja de ruta \\nque permite priorizar acciones, optimizar el uso de los recursos, realizar una coordinación \\ninterinstitucional, y mejorar el proceso de seguimiento y evaluación de las estrategias de \\nconvivencia y seguridad ciudadana.\\n »Una lista de necesidades de los organismos de seguridad y justicia del territorio.\\n »Un plan de vigilancia de ejecución exclusiva por parte del cuerpo de Policía.\\n »Una serie de acciones aisladas que trabajan problemáticas que no necesariamente \\ncoinciden con las realidades territoriales.\\n »Una formalidad para distribuir recursos del FONSET entre las entidades que \\nconforman el Comité Territorial de Orden Público, sin que dicha distribución \\ncontribuya al logro de los objetivos de los proyectos establecidos en el PISCC y \\nel abordaje de las necesidades de las personas, comunidades y territorios.\\n2.1 Conceptos base\\nPara formular el PISCC es necesario partir de definiciones claras sobre dos conceptos rectores para esta gestión, \\ncomo son la convivencia y la seguridad:\\nEl Código Nacional de Seguridad y Convivencia Ciudadana – CNSCC, en su artículo 5, define \\nla convivencia como la interacción pacífica, respetuosa y armónica entre las personas, con los \\nbienes, y con el ambiente, en el marco del ordenamiento jurídico. Las categorías de convivencia \\nson: seguridad, tranquilidad, ambiente y salud pública.\\nEl término seguridad se debe asumir como un concepto holístico que ha variado en el tiempo1. \\nEste concepto ha evolucionado desde un enfoque militar como responsabilidad del Estado, o \\nde la securitización, hasta poner al individuo como centro de protección. Ahora bien, desde \\nla concepción de seguridad humana, el Programa de las Naciones Unidad para el Desarrollo \\n- PNUD identifica dos aspectos principales: en primer lugar, significa seguridad contra \\namenazas crónicas como el hambre, la enfermedad y la represión. En segundo lugar, significa \\nprotección contra alteraciones súbitas y dolorosas de la vida cotidiana, ya sea en el hogar, en \\nel empleo o en la comunidad. Dichas amenazas pueden existir en todos los niveles de ingreso \\ny desarrollo de un país (PNUD, 1994. Pág. 26)2.\\nLa Ley 2272 de 2022 define que la seguridad humana consiste en proteger a las personas, la \\nnaturaleza y los seres sintientes, de tal manera que realce las libertades humanas y la plena \\n1 Según el Código Nacional de Seguridad y Ciudadana, en su artículo 6, la Seguridad se define como la acción de garantizar la protección de los derechos y \\nlibertades constitucionales y legales de las personas en el territorio nacional.\\n2 Programa de las Naciones Unidad para el Desarrollo - PNUD (1994) Informe sobre desarrollo humano 1994. Fondo de Cultura Económica. México. \\nDisponible en: https://hdr.undp.org/system/files/documents/hdr1994escompletonostatspdf.pdf En resumen: \\n¿Qué NO es \\nun PISCC?\\nConvivencia:\\nSeguridad:', metadata={'page': 9.0, 'source': '/content/DNP - Guía PISCC 2024.pdf'}),\n",
              " Document(page_content='PISCC 20247\\n1. INTRODUCCIÓN \\nLos Planes Integrales de Seguridad y Convivencia Ciudadana – \\nPISCC, son instrumentos de planeación estratégica que deben \\nseguir las administraciones locales y departamentales en el \\ntranscurso del cuatrienio de gobierno, en materia de convivencia \\ny seguridad ciudadana. En este, las entidades territoriales deben \\nidentificar aquellos fenómenos delictivos y comportamientos contrarios \\na la convivencia, así como cualquier tipo de situaciones de conflicto o de \\nviolencia con orígenes en causas estructurales, que afectan los entornos \\nsociales y que representan un riesgo o vulnerabilidad para la tranquilidad \\nde las personas; a la par de definir las acciones concretas (estrategias, \\nprogramas y actividades) que respondan a dichas necesidades, con el \\npropósito de prevenirlas,  mitigarlas, atenderlas o superarlas.  \\nadaptándose al contexto dinámico, cambiante y particular de los territorios. \\nPor ello, el Departamento Nacional de Planeación (DNP) presenta una nueva \\nGuía Metodológica para la Formulación, Implementación y Seguimiento de los \\nPlanes Integrales de Seguridad y Convivencia Ciudadana - PISCC, partiendo \\nde las versiones de la Guía publicadas en el año 2013 y 2019. La actualización \\ncontempla nuevas secciones temáticas, herramientas y recomendaciones \\npara las entidades territoriales a la hora de formular, implementar y realizar \\nseguimiento a dichos instrumentos.\\nDe la mano con lo anterior, en visitas territoriales realizadas en los últimos cuatro años por la Subdirección de \\nSeguridad y Defensa, con el acompañamiento del Ministerio del Interior y del Ministerio de Defensa Nacional, \\nse identificaron desafíos a la hora de formular e implementar estrategias y acciones en convivencia y seguridad \\nciudadana; así como en el diseño de herramientas de planeación como los PISCC. Algunos de estos desafíos son:\\nOPCIÓN \\nESCOGIDA\\nRestricciones financieras y \\noperativas para formular e \\nimplementar planes, programas \\ny proyectos por parte de las \\nentidades territoriales. \\nNo se realiza seguimiento, ni \\nevaluación a los indicadores y metas.Limitaciones técnicas y humanas \\nen los territorios en materia de \\nformulación de proyectos de inversión \\ncomo herramienta fundamental para \\nel desarrollo de los PISCC.\\nFalta de articulación entre los \\ninstrumentos de planeación de \\nlos niveles nacional y territorial \\nen materia de convivencia y \\nseguridad.Poca coordinación \\ninterinstitucional e interagencial \\npara su diseño e implementación.\\nPoca articulación entre los \\nPISCC departamentales y los \\nmunicipales.Se deben brindar \\nherramientas para que \\nlos mandatarios y sus \\nequipos construyan, \\ndesarrollen e \\nimplementen el PISCC \\nde la mejor manera,', metadata={'page': 6.0, 'source': '/content/DNP - Guía PISCC 2024.pdf'}),\n",
              " Document(page_content='PISCC 202417\\nFigura 6\\nPolíticas sectoriales\\nFuente: Ministerio del Interior, 2023.\\nPara abordar integralmente los asuntos de convivencia y seguridad ciudadana en el PISCC se \\ndebe tener en cuenta sus interacciones y dinámicas a nivel territorial con los temas de justicia.\\n2.4. Enfoques diferenciales e interseccionales \\nCon el propósito de generar un Plan Integral de Seguridad y Convivencia Ciudadana holístico se sugiere abordarlo \\ndesde un enfoque diferencial e interseccional10, antes de mencionar los principales referentes de políticas \\nintersectoriales que contribuyen a una comprensión más amplia de estas perspectivas es preciso referirse a los \\nelementos que conforman dichos enfoques:\\n \\nImplica considerar que, en cada etapa del ciclo de vida, existen diferentes necesidades, \\ncapacidades, responsabilidades y capacidades, asociados a un contexto social determinado; \\nen este sentido, el PISCC debe considerar dichas etapas: Primera Infancia, Infancia, \\nAdolescencia, Juventud, Adultez y persona mayor. Garantizar las condiciones de seguridad \\nde estos grupos poblacionales requieren de acciones y estrategias diferenciales.\\n \\nBusca reconocer, identificar y caracterizar a las personas con discapacidad y sus condiciones \\nde contexto de manera que se dé lugar a la ejecución de acciones afirmativas para la garantía \\nde derechos; existen diversas categorías de discapacidad entre las que se cuentan: la auditiva, \\nvisual, física, intelectual o cognitiva, psicosocial (mental), sordoceguera, discapacidad múltiple.\\n \\n10 Varios de los elementos descritos en los siguientes enfoques se tomaron como referencia del documento “Guía para la inclusión del enfoque diferencial e \\ninterseccional en la producción estadística del sistema estadístico nacional” del Departamento Administrativo Nacional de Estadística – DANE, publicado en \\n2020. Disponible en: https://www.dane.gov.co/files/investigaciones/genero/guia-inclusion-enfoque-difencias-intersecciones-produccion-estadistica-SEN.\\npdf Enfoque etario:\\nEnfoque de \\ndiscapacidad:Ministerio de \\nJusticia y del \\nDerechoMinisterio del \\nInteriorMinisterio de \\nDefensa Nacional\\nPolítica de Defensa \\ny Seguridad\\nPlan Estratégico\\nSectorial - PESPolítica de \\nConvivencia \\ny Seguridad \\nCiudadanaPolítica \\nCriminal\\nPolítica \\nPenitenciaria\\nOPCIÓN \\nESCOGIDA', metadata={'page': 16.0, 'source': '/content/DNP - Guía PISCC 2024.pdf'})]"
            ]
          },
          "execution_count": 30,
          "metadata": {},
          "output_type": "execute_result"
        }
      ],
      "source": [
        "data['context']"
      ]
    },
    {
      "cell_type": "code",
      "execution_count": 31,
      "metadata": {
        "colab": {
          "base_uri": "https://localhost:8080/"
        },
        "id": "MFySzbXWQAbE",
        "outputId": "2e3192eb-2f25-4994-a7a1-f40cb2d429a5"
      },
      "outputs": [
        {
          "data": {
            "text/plain": [
              "Document(page_content='10\\nEs un instrumento clave para rendir cuentas a diferentes grupos de interés al interior de la \\nadministración pública pero también a las personas beneficiadas.\\nEs un documento articulador entre las iniciativas departamentales y municipales en materia \\nde seguridad y convivencia ciudadana con las directrices, prioridades y propósitos nacionales \\nen este tema. \\n \\nformular el PISCC facilita el trabajo de las autoridades pues se convierte en la hoja de ruta \\nque permite priorizar acciones, optimizar el uso de los recursos, realizar una coordinación \\ninterinstitucional, y mejorar el proceso de seguimiento y evaluación de las estrategias de \\nconvivencia y seguridad ciudadana.\\n »Una lista de necesidades de los organismos de seguridad y justicia del territorio.\\n »Un plan de vigilancia de ejecución exclusiva por parte del cuerpo de Policía.\\n »Una serie de acciones aisladas que trabajan problemáticas que no necesariamente \\ncoinciden con las realidades territoriales.\\n »Una formalidad para distribuir recursos del FONSET entre las entidades que \\nconforman el Comité Territorial de Orden Público, sin que dicha distribución \\ncontribuya al logro de los objetivos de los proyectos establecidos en el PISCC y \\nel abordaje de las necesidades de las personas, comunidades y territorios.\\n2.1 Conceptos base\\nPara formular el PISCC es necesario partir de definiciones claras sobre dos conceptos rectores para esta gestión, \\ncomo son la convivencia y la seguridad:\\nEl Código Nacional de Seguridad y Convivencia Ciudadana – CNSCC, en su artículo 5, define \\nla convivencia como la interacción pacífica, respetuosa y armónica entre las personas, con los \\nbienes, y con el ambiente, en el marco del ordenamiento jurídico. Las categorías de convivencia \\nson: seguridad, tranquilidad, ambiente y salud pública.\\nEl término seguridad se debe asumir como un concepto holístico que ha variado en el tiempo1. \\nEste concepto ha evolucionado desde un enfoque militar como responsabilidad del Estado, o \\nde la securitización, hasta poner al individuo como centro de protección. Ahora bien, desde \\nla concepción de seguridad humana, el Programa de las Naciones Unidad para el Desarrollo \\n- PNUD identifica dos aspectos principales: en primer lugar, significa seguridad contra \\namenazas crónicas como el hambre, la enfermedad y la represión. En segundo lugar, significa \\nprotección contra alteraciones súbitas y dolorosas de la vida cotidiana, ya sea en el hogar, en \\nel empleo o en la comunidad. Dichas amenazas pueden existir en todos los niveles de ingreso \\ny desarrollo de un país (PNUD, 1994. Pág. 26)2.\\nLa Ley 2272 de 2022 define que la seguridad humana consiste en proteger a las personas, la \\nnaturaleza y los seres sintientes, de tal manera que realce las libertades humanas y la plena \\n1 Según el Código Nacional de Seguridad y Ciudadana, en su artículo 6, la Seguridad se define como la acción de garantizar la protección de los derechos y \\nlibertades constitucionales y legales de las personas en el territorio nacional.\\n2 Programa de las Naciones Unidad para el Desarrollo - PNUD (1994) Informe sobre desarrollo humano 1994. Fondo de Cultura Económica. México. \\nDisponible en: https://hdr.undp.org/system/files/documents/hdr1994escompletonostatspdf.pdf En resumen: \\n¿Qué NO es \\nun PISCC?\\nConvivencia:\\nSeguridad:', metadata={'page': 9.0, 'source': '/content/DNP - Guía PISCC 2024.pdf'})"
            ]
          },
          "execution_count": 31,
          "metadata": {},
          "output_type": "execute_result"
        }
      ],
      "source": [
        "data['context'][1]"
      ]
    }
  ],
  "metadata": {
    "colab": {
      "collapsed_sections": [
        "5krbG-OyTNXS",
        "JH7dIOm-yvZn",
        "jsiltZFTTGw8"
      ],
      "provenance": []
    },
    "kernelspec": {
      "display_name": "Python 3",
      "name": "python3"
    },
    "language_info": {
      "name": "python"
    }
  },
  "nbformat": 4,
  "nbformat_minor": 0
}
